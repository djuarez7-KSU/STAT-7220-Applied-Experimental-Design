{
  "nbformat": 4,
  "nbformat_minor": 0,
  "metadata": {
    "colab": {
      "provenance": [],
      "authorship_tag": "ABX9TyOIzqzR7+X3mBU4cOJGD3ud",
      "include_colab_link": true
    },
    "kernelspec": {
      "name": "python3",
      "display_name": "Python 3"
    },
    "language_info": {
      "name": "python"
    }
  },
  "cells": [
    {
      "cell_type": "markdown",
      "metadata": {
        "id": "view-in-github",
        "colab_type": "text"
      },
      "source": [
        "<a href=\"https://colab.research.google.com/github/djuarez7-KSU/STAT-7220-Applied-Experimental-Design/blob/Personal-Notes/introduction_to_completely_randomized_design.ipynb\" target=\"_parent\"><img src=\"https://colab.research.google.com/assets/colab-badge.svg\" alt=\"Open In Colab\"/></a>"
      ]
    },
    {
      "cell_type": "code",
      "source": [
        "# === COURSE REPO SETUP === #\n",
        "\n",
        "# 1. ENTER your GitHub username (the one that owns your fork)\n",
        "github_username = \"djuarez7-KSU\"\n",
        "\n",
        "# 2. Name of the repo (don't change unless your fork name is different)\n",
        "repo_name = \"STAT-7220-Applied-Experimental-Design\"\n",
        "\n",
        "# 3. Build the full repo URL for cloning\n",
        "repo_url = f\"https://github.com/{github_username}/{repo_name}.git\"\n",
        "\n",
        "import os\n",
        "\n",
        "# --- Detect if we're already in a repo ---\n",
        "cwd = os.getcwd()\n",
        "if cwd.endswith(repo_name):\n",
        "   print(f\"✅ Already inside repo folder: {cwd}\")\n",
        "else:\n",
        "    # --- If the repo folder exists, check if it's nested ---\n",
        "    if os.path.exists(repo_name):\n",
        "        print(f\"⚠️ Found existing folder '{repo_name}'. Skipping clone to avoid nesting.\")\n",
        "    else:\n",
        "        print(f\"📥 Cloning repo from {repo_url}...\")\n",
        "        os.system(f\"git clone {repo_url}\")\n",
        "\n",
        "    # --- Change to repo directory ---\n",
        "    if os.path.exists(repo_name):\n",
        "        os.chdir(repo_name)\n",
        "        print(f\"📂 Changed directory to: {os.getcwd()}\")\n",
        "    else:\n",
        "       print(\"❌ ERROR: Repo folder not found. Please check your GitHub username.\")\n",
        "\n",
        "# --- Check if this is the instructor's repo instead of student's fork ---\n",
        "# This command needs to be run from within the repository directory\n",
        "remote_url = os.popen(\"git config --get remote.origin.url\").read().strip()\n",
        "\n",
        "if \"abrown9008\" in remote_url:\n",
        "    print(\"⚠️ WARNING: You are working in the instructor's repo, not your fork!\")\n",
        "    print(\"💡 Please fork the repo to your own account and update `github_username` above.\")\n",
        "else:\n",
        "    print(f\"🔗 Connected to fork at: {remote_url}\")\n",
        "\n",
        "# Set Today's Directory #\n",
        "\n",
        "today_dir = \"Comparative Experiments\"\n",
        "os.chdir(today_dir)\n",
        "print(f\"📂 Changed directory to: {os.getcwd()}\")"
      ],
      "metadata": {
        "colab": {
          "base_uri": "https://localhost:8080/"
        },
        "id": "l07M1TvSngKX",
        "outputId": "0c4613cb-0594-4ec4-9c56-b9c823670a1d"
      },
      "execution_count": 1,
      "outputs": [
        {
          "output_type": "stream",
          "name": "stdout",
          "text": [
            "📥 Cloning repo from https://github.com/djuarez7-KSU/STAT-7220-Applied-Experimental-Design.git...\n",
            "📂 Changed directory to: /content/STAT-7220-Applied-Experimental-Design\n",
            "🔗 Connected to fork at: https://github.com/djuarez7-KSU/STAT-7220-Applied-Experimental-Design.git\n",
            "📂 Changed directory to: /content/STAT-7220-Applied-Experimental-Design/Comparative Experiments\n"
          ]
        }
      ]
    },
    {
      "cell_type": "code",
      "execution_count": null,
      "metadata": {
        "id": "AaPbC4mbwI6z",
        "colab": {
          "base_uri": "https://localhost:8080/"
        },
        "outputId": "15a5576d-e504-45ba-a2e1-6e72a03e90fe"
      },
      "outputs": [
        {
          "output_type": "stream",
          "name": "stdout",
          "text": [
            "[[ 1  2]\n",
            " [ 3  8]\n",
            " [ 4 10]\n",
            " [ 5 12]\n",
            " [ 6 13]\n",
            " [ 7 14]\n",
            " [ 9 15]\n",
            " [11 17]\n",
            " [16 19]\n",
            " [18 20]\n",
            " [21 23]\n",
            " [22 24]\n",
            " [25 26]\n",
            " [27 30]\n",
            " [28 31]\n",
            " [29 32]\n",
            " [35 33]\n",
            " [36 34]\n",
            " [39 37]\n",
            " [44 38]\n",
            " [46 40]\n",
            " [47 41]\n",
            " [48 42]\n",
            " [49 43]\n",
            " [50 45]\n",
            " [52 51]\n",
            " [57 53]\n",
            " [58 54]\n",
            " [59 55]\n",
            " [60 56]]\n"
          ]
        }
      ],
      "source": [
        "import random\n",
        "import numpy as np\n",
        "\n",
        "#set seed for reproducability\n",
        "random.seed(123)\n",
        "\n",
        "#specify can number\n",
        "cans = list(range(1,61)) #remember python starts at 0 not 1\n",
        "\n",
        "#take a random sample of the cans for plastic\n",
        "plastic = random.sample(cans, 30)\n",
        "\n",
        "#the elements from cans not in plastic\n",
        "#will be assigned to steel\n",
        "steel = [i for i in cans if i not in plastic]\n",
        "\n",
        "#sort both list in ascending order\n",
        "plastic.sort()\n",
        "steel.sort()\n",
        "\n",
        "#combine the list and print\n",
        "combined = np.column_stack((plastic, steel))\n",
        "print(combined)\n"
      ]
    },
    {
      "cell_type": "code",
      "source": [
        "#install openpyxl to read excel files\n",
        "%pip install openpyxl\n",
        "\n",
        "#import Pandas\n",
        "import pandas as pd\n",
        "\n",
        "#import can temperature file\n",
        "can_data = pd.read_excel(\"Can Temperature.xlsx\")\n",
        "print(can_data.info())\n",
        "\n",
        "#group the dataframe by the \"Treatment\"\n",
        "#column and calculate mean/sd for the\n",
        "#\"temperature\" colum\n",
        "\n",
        "summary_stats = can_data.groupby(\"Treatment\")[\"Temperature\"].agg([\"mean\", \"std\"])\n",
        "print(summary_stats)"
      ],
      "metadata": {
        "id": "ePl1ywbC36Rf",
        "colab": {
          "base_uri": "https://localhost:8080/"
        },
        "outputId": "0f674891-b9fc-4e6a-c272-1bc1d549e340"
      },
      "execution_count": 4,
      "outputs": [
        {
          "output_type": "stream",
          "name": "stdout",
          "text": [
            "Requirement already satisfied: openpyxl in /usr/local/lib/python3.12/dist-packages (3.1.5)\n",
            "Requirement already satisfied: et-xmlfile in /usr/local/lib/python3.12/dist-packages (from openpyxl) (2.0.0)\n",
            "<class 'pandas.core.frame.DataFrame'>\n",
            "RangeIndex: 60 entries, 0 to 59\n",
            "Data columns (total 3 columns):\n",
            " #   Column       Non-Null Count  Dtype  \n",
            "---  ------       --------------  -----  \n",
            " 0   Can Number   60 non-null     int64  \n",
            " 1   Treatment    60 non-null     object \n",
            " 2   Temperature  60 non-null     float64\n",
            "dtypes: float64(1), int64(1), object(1)\n",
            "memory usage: 1.5+ KB\n",
            "None\n",
            "                mean       std\n",
            "Treatment                     \n",
            "Plastic    34.431333  1.839094\n",
            "Steel      33.068667  1.980323\n"
          ]
        }
      ]
    },
    {
      "cell_type": "code",
      "source": [
        "import seaborn as sns\n",
        "import matplotlib.pyplot as plt\n",
        "\n",
        "#set a nice minimal style for plot\n",
        "sns.set_style(\"whitegrid\")\n",
        "\n",
        "#create a boxplot using seaborn\n",
        "sns.boxplot(x = \"Treatment\", y =\"Temperature\", data= can_data)\n",
        "\n",
        "#add title and labels using matplotlib\n",
        "plt.title(\"Boxplot of Can Temperature by Treatment\")\n",
        "plt.xlabel(\"Treatment\")\n",
        "plt.ylabel(\"Temperature\")\n",
        "\n"
      ],
      "metadata": {
        "colab": {
          "base_uri": "https://localhost:8080/",
          "height": 489
        },
        "id": "1TkewCd2tJEp",
        "outputId": "e33607ef-e2d0-4997-fff5-5791ea012344"
      },
      "execution_count": 9,
      "outputs": [
        {
          "output_type": "execute_result",
          "data": {
            "text/plain": [
              "Text(0, 0.5, 'Temperature')"
            ]
          },
          "metadata": {},
          "execution_count": 9
        },
        {
          "output_type": "display_data",
          "data": {
            "text/plain": [
              "<Figure size 640x480 with 1 Axes>"
            ],
            "image/png": "[encoded data removed]"
          },
          "metadata": {}
        }
      ]
    },
    {
      "cell_type": "code",
      "source": [
        "mu_hat = can_data[\"Temperature\"].mean()\n",
        "\n",
        "group_means = can_data.gr"
      ],
      "metadata": {
        "id": "4ZjD1LlguNlH"
      },
      "execution_count": null,
      "outputs": []
    },
    {
      "cell_type": "markdown",
      "source": [],
      "metadata": {
        "id": "LkaLW33D79pu"
      }
    }
  ]
}