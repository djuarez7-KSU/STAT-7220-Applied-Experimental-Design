{
  "nbformat": 4,
  "nbformat_minor": 0,
  "metadata": {
    "colab": {
      "provenance": [],
      "authorship_tag": "ABX9TyPniaQBK2Dx24y5e3gTvih/",
      "include_colab_link": true
    },
    "kernelspec": {
      "name": "python3",
      "display_name": "Python 3"
    },
    "language_info": {
      "name": "python"
    }
  },
  "cells": [
    {
      "cell_type": "markdown",
      "metadata": {
        "id": "view-in-github",
        "colab_type": "text"
      },
      "source": [
        "<a href=\"https://colab.research.google.com/github/djuarez7-KSU/STAT-7220-Applied-Experimental-Design/blob/Personal-Notes/introduction_to_completely_randomized_design.ipynb\" target=\"_parent\"><img src=\"https://colab.research.google.com/assets/colab-badge.svg\" alt=\"Open In Colab\"/></a>"
      ]
    },
    {
      "cell_type": "code",
      "execution_count": 2,
      "metadata": {
        "id": "AaPbC4mbwI6z",
        "colab": {
          "base_uri": "https://localhost:8080/"
        },
        "outputId": "15a5576d-e504-45ba-a2e1-6e72a03e90fe"
      },
      "outputs": [
        {
          "output_type": "stream",
          "name": "stdout",
          "text": [
            "[[ 1  2]\n",
            " [ 3  8]\n",
            " [ 4 10]\n",
            " [ 5 12]\n",
            " [ 6 13]\n",
            " [ 7 14]\n",
            " [ 9 15]\n",
            " [11 17]\n",
            " [16 19]\n",
            " [18 20]\n",
            " [21 23]\n",
            " [22 24]\n",
            " [25 26]\n",
            " [27 30]\n",
            " [28 31]\n",
            " [29 32]\n",
            " [35 33]\n",
            " [36 34]\n",
            " [39 37]\n",
            " [44 38]\n",
            " [46 40]\n",
            " [47 41]\n",
            " [48 42]\n",
            " [49 43]\n",
            " [50 45]\n",
            " [52 51]\n",
            " [57 53]\n",
            " [58 54]\n",
            " [59 55]\n",
            " [60 56]]\n"
          ]
        }
      ],
      "source": [
        "import random\n",
        "import numpy as np\n",
        "\n",
        "#set seed for reproducability\n",
        "random.seed(123)\n",
        "\n",
        "#specify can number\n",
        "cans = list(range(1,61)) #remember python starts at 0 not 1\n",
        "\n",
        "#take a random sample of the cans for plastic\n",
        "plastic = random.sample(cans, 30)\n",
        "\n",
        "#the elements from cans not in plastic\n",
        "#will be assigned to steel\n",
        "steel = [i for i in cans if i not in plastic]\n",
        "\n",
        "#sort both list in ascending order\n",
        "plastic.sort()\n",
        "steel.sort()\n",
        "\n",
        "#combine the list and print\n",
        "combined = np.column_stack((plastic, steel))\n",
        "print(combined)\n"
      ]
    },
    {
      "cell_type": "code",
      "source": [
        "#install openpyxl to read excel files\n",
        "%pip install openpyxl\n",
        "\n",
        "#import Pandas\n",
        "import pandas as pd\n",
        "\n",
        "\n"
      ],
      "metadata": {
        "id": "ePl1ywbC36Rf"
      },
      "execution_count": null,
      "outputs": []
    }
  ]
}