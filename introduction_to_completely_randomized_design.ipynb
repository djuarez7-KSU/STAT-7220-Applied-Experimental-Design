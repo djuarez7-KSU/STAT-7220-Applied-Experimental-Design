{
  "nbformat": 4,
  "nbformat_minor": 0,
  "metadata": {
    "colab": {
      "provenance": [],
      "authorship_tag": "ABX9TyNZgh1oyO/XOQAlyksoVkPl",
      "include_colab_link": true
    },
    "kernelspec": {
      "name": "python3",
      "display_name": "Python 3"
    },
    "language_info": {
      "name": "python"
    }
  },
  "cells": [
    {
      "cell_type": "markdown",
      "metadata": {
        "id": "view-in-github",
        "colab_type": "text"
      },
      "source": [
        "<a href=\"https://colab.research.google.com/github/djuarez7-KSU/STAT-7220-Applied-Experimental-Design/blob/Personal-Notes/introduction_to_completely_randomized_design.ipynb\" target=\"_parent\"><img src=\"https://colab.research.google.com/assets/colab-badge.svg\" alt=\"Open In Colab\"/></a>"
      ]
    },
    {
      "cell_type": "code",
      "source": [
        "# === COURSE REPO SETUP === #\n",
        "\n",
        "# 1. ENTER your GitHub username (the one that owns your fork)\n",
        "github_username = \"djuarez7-KSU\"\n",
        "\n",
        "# 2. Name of the repo (don't change unless your fork name is different)\n",
        "repo_name = \"STAT-7220-Applied-Experimental-Design\"\n",
        "\n",
        "# 3. Build the full repo URL for cloning\n",
        "repo_url = f\"https://github.com/{github_username}/{repo_name}.git\"\n",
        "\n",
        "import os\n",
        "\n",
        "# --- Detect if we're already in a repo ---\n",
        "cwd = os.getcwd()\n",
        "if cwd.endswith(repo_name):\n",
        "   print(f\"✅ Already inside repo folder: {cwd}\")\n",
        "else:\n",
        "    # --- If the repo folder exists, check if it's nested ---\n",
        "    if os.path.exists(repo_name):\n",
        "        print(f\"⚠️ Found existing folder '{repo_name}'. Skipping clone to avoid nesting.\")\n",
        "    else:\n",
        "        print(f\"📥 Cloning repo from {repo_url}...\")\n",
        "        os.system(f\"git clone {repo_url}\")\n",
        "\n",
        "    # --- Change to repo directory ---\n",
        "    if os.path.exists(repo_name):\n",
        "        os.chdir(repo_name)\n",
        "        print(f\"📂 Changed directory to: {os.getcwd()}\")\n",
        "    else:\n",
        "       print(\"❌ ERROR: Repo folder not found. Please check your GitHub username.\")\n",
        "\n",
        "# --- Check if this is the instructor's repo instead of student's fork ---\n",
        "# This command needs to be run from within the repository directory\n",
        "remote_url = os.popen(\"git config --get remote.origin.url\").read().strip()\n",
        "\n",
        "if \"abrown9008\" in remote_url:\n",
        "    print(\"⚠️ WARNING: You are working in the instructor's repo, not your fork!\")\n",
        "    print(\"💡 Please fork the repo to your own account and update `github_username` above.\")\n",
        "else:\n",
        "    print(f\"🔗 Connected to fork at: {remote_url}\")\n",
        "\n",
        "# Set Today's Directory #\n",
        "\n",
        "today_dir = \"Comparative Experiments\"\n",
        "os.chdir(today_dir)\n",
        "print(f\"📂 Changed directory to: {os.getcwd()}\")"
      ],
      "metadata": {
        "colab": {
          "base_uri": "https://localhost:8080/"
        },
        "id": "l07M1TvSngKX",
        "outputId": "0c4613cb-0594-4ec4-9c56-b9c823670a1d"
      },
      "execution_count": 1,
      "outputs": [
        {
          "output_type": "stream",
          "name": "stdout",
          "text": [
            "📥 Cloning repo from https://github.com/djuarez7-KSU/STAT-7220-Applied-Experimental-Design.git...\n",
            "📂 Changed directory to: /content/STAT-7220-Applied-Experimental-Design\n",
            "🔗 Connected to fork at: https://github.com/djuarez7-KSU/STAT-7220-Applied-Experimental-Design.git\n",
            "📂 Changed directory to: /content/STAT-7220-Applied-Experimental-Design/Comparative Experiments\n"
          ]
        }
      ]
    },
    {
      "cell_type": "code",
      "execution_count": 17,
      "metadata": {
        "id": "AaPbC4mbwI6z",
        "colab": {
          "base_uri": "https://localhost:8080/"
        },
        "outputId": "cad7e927-5dd6-4729-edcf-d49423062385"
      },
      "outputs": [
        {
          "output_type": "stream",
          "name": "stdout",
          "text": [
            "[[ 1  2]\n",
            " [ 3  8]\n",
            " [ 4 10]\n",
            " [ 5 12]\n",
            " [ 6 13]\n",
            " [ 7 14]\n",
            " [ 9 15]\n",
            " [11 17]\n",
            " [16 19]\n",
            " [18 20]\n",
            " [21 23]\n",
            " [22 24]\n",
            " [25 26]\n",
            " [27 30]\n",
            " [28 31]\n",
            " [29 32]\n",
            " [35 33]\n",
            " [36 34]\n",
            " [39 37]\n",
            " [44 38]\n",
            " [46 40]\n",
            " [47 41]\n",
            " [48 42]\n",
            " [49 43]\n",
            " [50 45]\n",
            " [52 51]\n",
            " [57 53]\n",
            " [58 54]\n",
            " [59 55]\n",
            " [60 56]]\n"
          ]
        }
      ],
      "source": [
        "import random\n",
        "import numpy as np\n",
        "\n",
        "#set seed for reproducability\n",
        "random.seed(123)\n",
        "\n",
        "#specify can number\n",
        "balls  = list(range(1,61)) #remember python starts at 0 not 1\n",
        "\n",
        "#take a random sample of the cans for plastic\n",
        "formula1 = random.sample(balls, 30)\n",
        "\n",
        "#the elements from cans not in plastic\n",
        "#will be assigned to steel\n",
        "formula2 = [i for i in balls if i not in formula1]\n",
        "\n",
        "#sort both list in ascending order\n",
        "formula1.sort()\n",
        "formula2.sort()\n",
        "\n",
        "#combine the list and print\n",
        "combined = np.column_stack((formula1, formula2))\n",
        "print(combined)\n"
      ]
    },
    {
      "cell_type": "code",
      "source": [
        "#install openpyxl to read excel files\n",
        "%pip install openpyxl\n",
        "\n",
        "#import Pandas\n",
        "import pandas as pd\n",
        "\n",
        "#import can temperature file\n",
        "balls_df = pd.read_excel(\"Dog Toys.xlsx\")\n",
        "print(balls_df.info())\n",
        "\n",
        "#group the dataframe by the \"Treatment\"\n",
        "#column and calculate mean/sd for the\n",
        "#\"temperature\" colum\n",
        "\n",
        "summary_stats = balls_df.groupby(\"Formulation\")[\"PSI\"].agg([\"mean\", \"std\"])\n",
        "print(summary_stats)"
      ],
      "metadata": {
        "id": "ePl1ywbC36Rf",
        "colab": {
          "base_uri": "https://localhost:8080/"
        },
        "outputId": "26857090-5efa-486c-e438-d5caeed61958"
      },
      "execution_count": 19,
      "outputs": [
        {
          "output_type": "stream",
          "name": "stdout",
          "text": [
            "Requirement already satisfied: openpyxl in /usr/local/lib/python3.12/dist-packages (3.1.5)\n",
            "Requirement already satisfied: et-xmlfile in /usr/local/lib/python3.12/dist-packages (from openpyxl) (2.0.0)\n",
            "<class 'pandas.core.frame.DataFrame'>\n",
            "RangeIndex: 120 entries, 0 to 119\n",
            "Data columns (total 2 columns):\n",
            " #   Column       Non-Null Count  Dtype  \n",
            "---  ------       --------------  -----  \n",
            " 0   Formulation  120 non-null    object \n",
            " 1   PSI          120 non-null    float64\n",
            "dtypes: float64(1), object(1)\n",
            "memory usage: 2.0+ KB\n",
            "None\n",
            "                   mean        std\n",
            "Formulation                       \n",
            "Formula 1    278.432167  12.450986\n",
            "Formula 2    291.924333  16.644723\n"
          ]
        }
      ]
    },
    {
      "cell_type": "code",
      "source": [
        "import seaborn as sns\n",
        "import matplotlib.pyplot as plt\n",
        "\n",
        "#set a nice minimal style for plot\n",
        "sns.set_style(\"whitegrid\")\n",
        "\n",
        "#create a boxplot using seaborn\n",
        "sns.boxplot(x = \"Formulation\", y =\"PSI\", data= balls_df)\n",
        "\n",
        "#add title and labels using matplotlib\n",
        "plt.title(\"Boxplot of Toy PSI by Formulation\")\n",
        "plt.xlabel(\"Formulation\")\n",
        "plt.ylabel(\"PSI\")\n",
        "\n"
      ],
      "metadata": {
        "colab": {
          "base_uri": "https://localhost:8080/",
          "height": 489
        },
        "id": "1TkewCd2tJEp",
        "outputId": "9d113288-0ae7-410a-c3ad-a8b01e3bcfd5"
      },
      "execution_count": 20,
      "outputs": [
        {
          "output_type": "execute_result",
          "data": {
            "text/plain": [
              "Text(0, 0.5, 'PSI')"
            ]
          },
          "metadata": {},
          "execution_count": 20
        },
        {
          "output_type": "display_data",
          "data": {
            "text/plain": [
              "<Figure size 640x480 with 1 Axes>"
            ],
            "image/png": "[encoded data removed]"
          },
          "metadata": {}
        }
      ]
    },
    {
      "cell_type": "code",
      "source": [
        "mu_hat = balls_df[\"PSI\"].mean()\n",
        "\n",
        "## Calculate the group means of Temperature, grouped by Treatment ##\n",
        "\n",
        "group_means = balls_df.groupby('Formulation')['PSI'].mean().reset_index()\n",
        "group_means = group_means.rename(columns={'PSI': 'mean_psi'})\n",
        "\n",
        "## Calculate the difference between group means and the grand mean ##\n",
        "\n",
        "tau_hat = group_means['mean_psi'] - mu_hat\n",
        "\n",
        "## Print Results ##\n",
        "\n",
        "print(\"Grand Mean:\", mu_hat)\n",
        "print(\"\\nGroup Means:\")\n",
        "print(group_means)\n",
        "print(\"\\nTau Hats:\")\n",
        "print(tau_hat)"
      ],
      "metadata": {
        "colab": {
          "base_uri": "https://localhost:8080/"
        },
        "id": "4ZjD1LlguNlH",
        "outputId": "0b9638ad-d4c2-4abd-f21d-49d60f271259"
      },
      "execution_count": 21,
      "outputs": [
        {
          "output_type": "stream",
          "name": "stdout",
          "text": [
            "Grand Mean: 285.17825\n",
            "\n",
            "Group Means:\n",
            "  Formulation    mean_psi\n",
            "0   Formula 1  278.432167\n",
            "1   Formula 2  291.924333\n",
            "\n",
            "Tau Hats:\n",
            "0   -6.746083\n",
            "1    6.746083\n",
            "Name: mean_psi, dtype: float64\n"
          ]
        }
      ]
    },
    {
      "cell_type": "code",
      "source": [
        "## Install statsmodels.api ##\n",
        "#%pip install statsmodels\n",
        "\n",
        "## Import statsmodels ##\n",
        "\n",
        "import statsmodels.api as sm\n",
        "from statsmodels.formula.api import ols\n",
        "\n",
        "## Fit One-Way ANOVA Model ##\n",
        "\n",
        "mod = ols(\"PSI ~ Formulation\", data=balls_df).fit()\n",
        "\n",
        "## Get the ANOVA table ##\n",
        "\n",
        "aov_tab = sm.stats.anova_lm(mod,typ=1)\n",
        "\n",
        "print(aov_tab)"
      ],
      "metadata": {
        "id": "zhsAXpCTBad5",
        "outputId": "e8242f9f-a7ae-4f80-af10-20ba98bce551",
        "colab": {
          "base_uri": "https://localhost:8080/"
        }
      },
      "execution_count": 22,
      "outputs": [
        {
          "output_type": "stream",
          "name": "stdout",
          "text": [
            "                df        sum_sq      mean_sq          F    PR(>F)\n",
            "Formulation    1.0   5461.156841  5461.156841  25.278813  0.000002\n",
            "Residual     118.0  25492.356292   216.036918        NaN       NaN\n"
          ]
        }
      ]
    }
  ]
}