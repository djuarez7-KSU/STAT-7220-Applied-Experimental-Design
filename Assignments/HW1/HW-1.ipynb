{
  "cells": [
    {
      "cell_type": "code",
      "source": [
        "import os\n",
        "os.chdir(\"/content\")\n",
        "!rm -rf STAT-7220- Applied-Experimental-Design\n",
        "print(os.getcwd())"
      ],
      "metadata": {
        "colab": {
          "base_uri": "https://localhost:8080/"
        },
        "id": "GAz-jR5TfmAB",
        "outputId": "7accc77e-fcd9-4236-c2a1-a9c75d25279d"
      },
      "id": "GAz-jR5TfmAB",
      "execution_count": 2,
      "outputs": [
        {
          "output_type": "stream",
          "name": "stdout",
          "text": [
            "/content\n"
          ]
        }
      ]
    },
    {
      "cell_type": "code",
      "source": [
        "import os\n",
        "os.chdir(\"/content\")\n",
        "!rm -rf STAT-7220- Applied-Experimental-Design\n",
        "\n",
        "\n",
        "# === COURSE REPO SETUP === #\n",
        "\n",
        "# 1. ENTER your GitHub username (the one that owns your fork)\n",
        "github_username = \"djuarez7-KSU\"\n",
        "\n",
        "# 2. Name of the repo (don't change unless your fork name is different)\n",
        "repo_name = \"STAT-7220-Applied-Experimental-Design\"\n",
        "\n",
        "# 3. Build the full repo URL for cloning\n",
        "repo_url = f\"https://github.com/{github_username}/{repo_name}.git\"\n",
        "\n",
        "import os\n",
        "\n",
        "# --- Detect if we're already in a repo ---\n",
        "cwd = os.getcwd()\n",
        "if cwd.endswith(repo_name):\n",
        "    print(f\"✅ Already inside repo folder: {cwd}\")\n",
        "else:\n",
        "    # --- If the repo folder exists, check if it's nested ---\n",
        "    if os.path.exists(repo_name):\n",
        "        print(f\"⚠️ Found existing folder '{repo_name}'. Skipping clone to avoid nesting.\")\n",
        "    else:\n",
        "        print(f\"📥 Cloning repo from {repo_url}...\")\n",
        "        os.system(f\"git clone {repo_url}\")\n",
        "\n",
        "    # --- Change to repo directory ---\n",
        "    if os.path.exists(repo_name):\n",
        "        os.chdir(repo_name)\n",
        "        print(f\"📂 Changed directory to: {os.getcwd()}\")\n",
        "    else:\n",
        "        print(\"❌ ERROR: Repo folder not found. Please check your GitHub username.\")\n",
        "\n",
        "# --- Check if this is the instructor's repo instead of student's fork ---\n",
        "# This command needs to be run from within the repository directory\n",
        "remote_url = os.popen(\"git config --get remote.origin.url\").read().strip()\n",
        "\n",
        "if \"abrown9008\" in remote_url:\n",
        "   print(\"⚠️ WARNING: You are working in the instructor's repo, not your fork!\")\n",
        "   print(\"💡 Please fork the repo to your own account and update `github_username` above.\")\n",
        "else:\n",
        "   print(f\"🔗 Connected to fork at: {remote_url}\")\n",
        "\n",
        "# Set Today's Directory #\n",
        "\n",
        "today_dir = \"Assignments/HW1\"\n",
        "os.chdir(today_dir)\n",
        "print(f\"📂 Changed directory to: {os.getcwd()}\")"
      ],
      "metadata": {
        "colab": {
          "base_uri": "https://localhost:8080/"
        },
        "id": "Zvrq2CpzedEc",
        "outputId": "be697bb7-99f4-43e9-b5b9-75bd91a352a5"
      },
      "id": "Zvrq2CpzedEc",
      "execution_count": 3,
      "outputs": [
        {
          "output_type": "stream",
          "name": "stdout",
          "text": [
            "📥 Cloning repo from https://github.com/djuarez7-KSU/STAT-7220-Applied-Experimental-Design.git...\n",
            "📂 Changed directory to: /content/STAT-7220-Applied-Experimental-Design\n",
            "🔗 Connected to fork at: https://github.com/djuarez7-KSU/STAT-7220-Applied-Experimental-Design.git\n",
            "📂 Changed directory to: /content/STAT-7220-Applied-Experimental-Design/Assignments/HW1\n"
          ]
        }
      ]
    },
    {
      "cell_type": "markdown",
      "id": "a6d135f8",
      "metadata": {
        "id": "a6d135f8"
      },
      "source": [
        "# Homework 1: Completely Randomized Designs\n",
        "## Dr. Austin R. Brown\n",
        "### School of Data Science & Analytics\n",
        "### Kennesaw State University\n",
        "\n",
        "**DUE: September 12, 2025**\n",
        "\n",
        "**INSTRUCTIONS:** You are a quality control analyst for a craft brewery experimenting with a new India Pale Ale (IPA). One key quality attribute of IPA is its bitterness, measured in International Bitterness Units (IBUs). The brewery wants to determine if the aging time (3, 4, or 5 weeks) affects the IBUs of the beer. To test this, the brewing team brews a single batch of the experimental IPA and divides it into aging tanks, with each tank randomly assigned to be aged for 3, 4, or 5 weeks. After aging, the IBUs of ten randomly selected bottles from each aging time are measured using a spectrophotometer. The data are in the file `IPA.xlsx`. With these data, I want you to:\n",
        "\n",
        "**Question 1.** Briefly define the objective of this experiment\n",
        "\n",
        "**Answer:** Our main objective is to determine which again time affects more the bitterness (IBUs) measurement of the new IPA\n",
        "\n",
        "**Question 2.** Specify the outcome variable\n",
        "\n",
        "**Answer:** The outcome variable will be the IBUs\n",
        "\n",
        "**Question 3.** Specify the independent variable. What are some possible lurking variables?\n",
        "\n",
        "**Answer:** The independent variable (IV) at this time it will be aging tanks\n",
        "\n",
        "Possible lurking variables could be:\n",
        "- the temperature of the room where it will be hold the tanks\n",
        "- the tanks where the brew will be storage they will be the same size and material\n",
        "- the time and day in wich the measurement will take place\n",
        "\n",
        "\n",
        "**Question 4.** Briefly explain why a completely randomized design is appropriate for this experiment.\n",
        "\n",
        "**Question 5.** State the null and alternative hypotheses for this experiment.\n",
        "\n",
        "**Answer:** $$ H_0: \\mu_{\\text{week1}} = \\mu_{\\text{week2}} = \\mu_{\\text{week3}} $$\n",
        "\n",
        "$$ H_1: \\text{At least one pair of means differ substantially} $$\n",
        "\n",
        "**Question 6.** Perform appropriate exploratory analysis, including summary statistics **and** data visualizations. Do the results of these analyses support the null or alternative hypothesis more strongly?\n",
        "\n",
        "**Answer:** After checking the initial EDA and creating a visualization, I can infere that the alternative hypothesis is supported for the boxplot; since, we can see a strong overlapping  which potentially indicates that the response pattern between all the weeks groups may be substantially different.\n"
      ]
    },
    {
      "cell_type": "code",
      "source": [
        "#Import the packages we will use for the exercise\n",
        "import pandas as pd\n",
        "import numpy as np\n",
        "import seaborn as sns\n",
        "import matplotlib.pyplot as plt\n",
        "\n",
        "#load the dataset\n",
        "ipa = pd.read_excel(\"IPA.xlsx\")\n",
        "\n",
        "#check the data\n",
        "print(ipa.head())\n",
        "print(ipa.info())\n",
        "\n",
        "#calculate the mean and std if the IPA by tank\n",
        "ipa_stats = ipa.groupby(\"Weeks\")[\"IBU\"].agg(['mean', 'std'])\n",
        "print(ipa_stats)\n",
        "\n",
        "#generate the visualization with a boxplot\n",
        "sns.boxplot(x = 'Weeks', y = 'IBU', data = ipa)\n",
        "\n",
        "#add the labels\n",
        "plt.xlabel('Aging Time (weeks)')\n",
        "plt.ylabel('IBU')\n",
        "plt.title('Boxplot of IBUs by Aging Time')\n"
      ],
      "metadata": {
        "colab": {
          "base_uri": "https://localhost:8080/",
          "height": 852
        },
        "id": "3BCGnz9meRNY",
        "outputId": "3a762a2c-e41c-490e-f046-6ac7bf137fda"
      },
      "id": "3BCGnz9meRNY",
      "execution_count": 26,
      "outputs": [
        {
          "output_type": "stream",
          "name": "stdout",
          "text": [
            "     Weeks    IBU\n",
            "0  3 Weeks  51.71\n",
            "1  3 Weeks  43.53\n",
            "2  3 Weeks  47.25\n",
            "3  3 Weeks  41.57\n",
            "4  3 Weeks  46.27\n",
            "<class 'pandas.core.frame.DataFrame'>\n",
            "RangeIndex: 30 entries, 0 to 29\n",
            "Data columns (total 2 columns):\n",
            " #   Column  Non-Null Count  Dtype  \n",
            "---  ------  --------------  -----  \n",
            " 0   Weeks   30 non-null     object \n",
            " 1   IBU     30 non-null     float64\n",
            "dtypes: float64(1), object(1)\n",
            "memory usage: 612.0+ bytes\n",
            "None\n",
            "           mean        std\n",
            "Weeks                     \n",
            "3 Weeks  45.657   5.548563\n",
            "4 Weeks  60.164  10.390411\n",
            "5 Weeks  71.791  12.627946\n"
          ]
        },
        {
          "output_type": "execute_result",
          "data": {
            "text/plain": [
              "Text(0.5, 1.0, 'Boxplot of IBUs by Aging Time')"
            ]
          },
          "metadata": {},
          "execution_count": 26
        },
        {
          "output_type": "display_data",
          "data": {
            "text/plain": [
              "<Figure size 640x480 with 1 Axes>"
            ],
            "image/png": "[encoded data removed]"
          },
          "metadata": {}
        }
      ]
    },
    {
      "cell_type": "markdown",
      "source": [
        "**Question 7.** Build a one-way ANOVA model. Test the assumption of normality using **both** a visual method and a testing method. Do the results of the normality test(s) support the assumption of normality?\n",
        "\n",
        "**Answer:**\n",
        "- Our $F_{\\text{Stat}} = 17.25$ and has an associated p-value of 0.00001.\n",
        "- As we can see, most of the points fall near the line bisecting the graph.\n",
        "\n",
        "The normality test hypothesis:\n",
        "\n",
        "$$ H_0: \\text{The Normality Assumption is Met} $$\n",
        "\n",
        "$$ H_1: \\text{The Normality Assumption is Not Met} $$\n",
        "\n",
        "- Here we get both the test statistic ($W=0.98$) as well as its associated p-value ($p=0.9734$).\n",
        "\n",
        "- Since $p > \\alpha = 0.05$, this tells us the data more strongly support the  **null** hypothesis, meaning that the assumption of normality is supported by the data.\n",
        "\n",
        "We can conclude that the testing method as well the QQ plot support that the assumptions follow a normal distribution."
      ],
      "metadata": {
        "id": "85KIDL-GeRyJ"
      },
      "id": "85KIDL-GeRyJ"
    },
    {
      "cell_type": "code",
      "source": [
        "import statsmodels.api as sm\n",
        "from statsmodels.formula.api import ols\n",
        "from scipy import stats\n",
        "\n",
        "#lets fit One-Way ANOVA model\n",
        "ipa_model = ols('IBU~Weeks', data = ipa).fit()\n",
        "\n",
        "print(sm.stats.anova_lm(ipa_model, typ= 1))\n",
        "\n",
        "#lets extract the residuals\n",
        "residuals = ipa_model.resid\n",
        "\n",
        "#crate the QQ plot for the residuals\n",
        "normality_plot, stat = stats.probplot(residuals, plot = plt, rvalue = True)\n",
        "plt.title(\"Probability plot of model residual's\", fontsize= 10)\n",
        "\n",
        "## Perform Shapiro-Wilk Test of Normality ##\n",
        "stats.shapiro(residuals)\n"
      ],
      "metadata": {
        "colab": {
          "base_uri": "https://localhost:8080/",
          "height": 535
        },
        "id": "2dI-EA3Wk_UF",
        "outputId": "75bc4ebe-f0bb-4b6a-be56-696a133b2180"
      },
      "id": "2dI-EA3Wk_UF",
      "execution_count": 51,
      "outputs": [
        {
          "output_type": "stream",
          "name": "stdout",
          "text": [
            "            df      sum_sq      mean_sq          F    PR(>F)\n",
            "Weeks      2.0  3428.75378  1714.376890  17.246546  0.000015\n",
            "Residual  27.0  2683.90994    99.404072        NaN       NaN\n"
          ]
        },
        {
          "output_type": "execute_result",
          "data": {
            "text/plain": [
              "ShapiroResult(statistic=np.float64(0.9876508728828111), pvalue=np.float64(0.9734239573476953))"
            ]
          },
          "metadata": {},
          "execution_count": 51
        },
        {
          "output_type": "display_data",
          "data": {
            "text/plain": [
              "<Figure size 640x480 with 1 Axes>"
            ],
            "image/png": "[encoded data removed]"
          },
          "metadata": {}
        }
      ]
    },
    {
      "cell_type": "markdown",
      "source": [
        "\n",
        "**Question 8.** Test the assumption of homogeneity of variance using **both** a visual method and a testing method. Do the results of the test(s) support the assumption of homogeneity of variance?\n",
        "\n",
        "**Answer:**\n",
        "- For each group mean, the residuals are mostly centered around 0, which implies that the residual mean being approximately 0 seems reasonable.\n",
        "\n",
        "- Additionally, while the residuals are not exactly the same width, they are not drastically different either.\n",
        "\n",
        "State the statistical hypothesis for the inferential test:\n",
        "\n",
        "$$ H_0: \\text{Variance is Constant} $$\n",
        "\n",
        "$$ H_1: \\text{Variance is Not Constant} $$\n",
        "\n",
        "- Since our p-value > to 0.05,the data more strongly support the  **null** hypothesis.\n",
        "\n",
        "Since the scatterplot of standardized residuals to fitted values looked reasonably good and the test support the **null hypothesis**, we can feel comfortable assuming the data support the constant variance assumption.\n",
        "\n"
      ],
      "metadata": {
        "id": "eb2ZdVimk_vM"
      },
      "id": "eb2ZdVimk_vM"
    },
    {
      "cell_type": "code",
      "source": [
        "#obtain the Standardized Residuals\n",
        "\n",
        "standardized_residuals = ipa_model.get_influence().resid_studentized_internal\n",
        "\n",
        "#get the fitted values\n",
        "\n",
        "fitted_values = ipa_model.fittedvalues\n",
        "\n",
        "## Create the plot ##\n",
        "\n",
        "plt.figure(figsize=(8, 6))\n",
        "plt.scatter(fitted_values, standardized_residuals)\n",
        "plt.axhline(y=0, linestyle='dashed', color='red')\n",
        "plt.axhline(y=3, color='blue')\n",
        "plt.axhline(y=-3, color='blue')\n",
        "plt.xlabel(\"Predicted y's\")\n",
        "plt.ylabel(\"Standardized Residuals\")\n",
        "plt.title(\"Standardized Residuals vs. Fitted Values\")\n",
        "plt.style.use('classic')\n",
        "plt.show()\n",
        "\n",
        "#lets run a Bruesch-Pagan Test\n",
        "#import the required function for our test\n",
        "from statsmodels.stats.diagnostic import het_breuschpagan\n",
        "\n",
        "#run the B-P test\n",
        "bp_test =  het_breuschpagan(ipa_model.resid, ipa_model.model.exog)\n",
        "\n",
        "#extract tge F-statistics abd the P-values\n",
        "f_statistic = bp_test[2]\n",
        "f_p_value = bp_test[3]\n",
        "\n",
        "#print the results\n",
        "print(f\"F-statistic: {f_statistic}\")\n",
        "print(f\"P-value: {f_p_value}\")"
      ],
      "metadata": {
        "colab": {
          "base_uri": "https://localhost:8080/",
          "height": 505
        },
        "id": "3bNY6cV8yovS",
        "outputId": "4dcd36eb-7568-4348-b088-23258de0ff59"
      },
      "id": "3bNY6cV8yovS",
      "execution_count": 42,
      "outputs": [
        {
          "output_type": "display_data",
          "data": {
            "text/plain": [
              "<Figure size 640x480 with 1 Axes>"
            ],
            "image/png": "[encoded data removed]"
          },
          "metadata": {}
        },
        {
          "output_type": "stream",
          "name": "stdout",
          "text": [
            "F-statistic: 1.9302562326002541\n",
            "P-value: 0.16461466112533732\n"
          ]
        }
      ]
    },
    {
      "cell_type": "markdown",
      "source": [
        "**Question 9.** Report the F-statistic and its associated p-value from the one-way ANOVA model. Which of our two hypotheses is more strongly supported? Why?\n",
        "\n",
        "**Answer:** the **alternative hypothesis** is more strongly supported since our $p < \\alpha = 0.05$. this suggests the **rejection of the null hypothesis**."
      ],
      "metadata": {
        "id": "nEKMDxL7ypCO"
      },
      "id": "nEKMDxL7ypCO"
    },
    {
      "cell_type": "code",
      "source": [
        "import statsmodels.api as sm\n",
        "from statsmodels.formula.api import ols\n",
        "from scipy import stats\n",
        "\n",
        "#lets fit One-Way ANOVA model\n",
        "ipa_model = ols('IBU~Weeks', data = ipa).fit()\n",
        "\n",
        "print(sm.stats.anova_lm(ipa_model, typ= 1))"
      ],
      "metadata": {
        "colab": {
          "base_uri": "https://localhost:8080/"
        },
        "id": "VCxArNQP671L",
        "outputId": "db53286d-db59-436b-c07f-1d7ba3fa8a76"
      },
      "id": "VCxArNQP671L",
      "execution_count": 57,
      "outputs": [
        {
          "output_type": "stream",
          "name": "stdout",
          "text": [
            "            df      sum_sq      mean_sq          F    PR(>F)\n",
            "Weeks      2.0  3428.75378  1714.376890  17.246546  0.000015\n",
            "Residual  27.0  2683.90994    99.404072        NaN       NaN\n"
          ]
        }
      ]
    },
    {
      "cell_type": "markdown",
      "source": [
        "**Question 10.** If the data more strongly support the alternative hypothesis, perform Tukey's HSD post-hoc test to determine which aging times are significantly different from each other. If the data more strongly support the null hypothesis, explain why a post-hoc test would not be appropriate.\n",
        "\n",
        "**Answer:**\n",
        "- These results, as shown by the adjusted $p > 0.05$, indicate that the mean rating for each week tank is greater than each other, founding a statistically difference between the bitterness in each group.\n"
      ],
      "metadata": {
        "id": "21r1_XVS4MgF"
      },
      "id": "21r1_XVS4MgF"
    },
    {
      "cell_type": "code",
      "source": [
        "from statsmodels.stats.multicomp import pairwise_tukeyhsd\n",
        "\n",
        "## Perform Tukey's HSD test ##\n",
        "\n",
        "tukey_result = pairwise_tukeyhsd(endog=ipa['IBU'], groups=ipa['Weeks'],\n",
        "                                 alpha=0.05)\n",
        "\n",
        "print(tukey_result)"
      ],
      "metadata": {
        "colab": {
          "base_uri": "https://localhost:8080/"
        },
        "id": "yDFWcn1W73vJ",
        "outputId": "4cc60ce5-0014-443a-c31e-b2f2d4932c21"
      },
      "id": "yDFWcn1W73vJ",
      "execution_count": 58,
      "outputs": [
        {
          "output_type": "stream",
          "name": "stdout",
          "text": [
            " Multiple Comparison of Means - Tukey HSD, FWER=0.05  \n",
            "======================================================\n",
            " group1  group2 meandiff p-adj   lower   upper  reject\n",
            "------------------------------------------------------\n",
            "3 Weeks 4 Weeks   14.507 0.0083  3.4518 25.5622   True\n",
            "3 Weeks 5 Weeks   26.134    0.0 15.0788 37.1892   True\n",
            "4 Weeks 5 Weeks   11.627 0.0378  0.5718 22.6822   True\n",
            "------------------------------------------------------\n"
          ]
        }
      ]
    },
    {
      "cell_type": "markdown",
      "source": [
        "**Question 11.** Write a brief, contextual conclusion summarizing the results of your analyses."
      ],
      "metadata": {
        "id": "-zDZ8WQo76By"
      },
      "id": "-zDZ8WQo76By"
    }
  ],
  "metadata": {
    "language_info": {
      "name": "python"
    },
    "colab": {
      "provenance": []
    },
    "kernelspec": {
      "name": "python3",
      "display_name": "Python 3"
    }
  },
  "nbformat": 4,
  "nbformat_minor": 5
}